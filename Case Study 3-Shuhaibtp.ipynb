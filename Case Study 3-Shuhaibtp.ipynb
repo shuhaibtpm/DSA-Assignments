{
 "cells": [
  {
   "cell_type": "markdown",
   "id": "346cce95",
   "metadata": {},
   "source": [
    "# Case Study on Correlation and Regression\n",
    "SHUHAIB T P"
   ]
  },
  {
   "cell_type": "code",
   "execution_count": 60,
   "id": "88eb2e92",
   "metadata": {},
   "outputs": [],
   "source": [
    "#importing libraries\n",
    "import numpy as np\n",
    "import pandas as pd\n",
    "import matplotlib.pyplot as plt\n",
    "import seaborn as sns\n",
    "from sklearn.model_selection import train_test_split\n",
    "from sklearn import linear_model\n",
    "from sklearn.linear_model import LinearRegression\n",
    "from sklearn.datasets import make_regression"
   ]
  },
  {
   "cell_type": "code",
   "execution_count": 16,
   "id": "0d43deab",
   "metadata": {},
   "outputs": [
    {
     "data": {
      "text/html": [
       "<div>\n",
       "<style scoped>\n",
       "    .dataframe tbody tr th:only-of-type {\n",
       "        vertical-align: middle;\n",
       "    }\n",
       "\n",
       "    .dataframe tbody tr th {\n",
       "        vertical-align: top;\n",
       "    }\n",
       "\n",
       "    .dataframe thead th {\n",
       "        text-align: right;\n",
       "    }\n",
       "</style>\n",
       "<table border=\"1\" class=\"dataframe\">\n",
       "  <thead>\n",
       "    <tr style=\"text-align: right;\">\n",
       "      <th></th>\n",
       "      <th>Date</th>\n",
       "      <th>Add1(in Thousands)</th>\n",
       "      <th>Add2(in Thousands)</th>\n",
       "      <th>Add3(in Thousands)</th>\n",
       "      <th>Add4(in Thousands)</th>\n",
       "      <th>Add5(in Thousands)</th>\n",
       "      <th>Profit(in Thousands)</th>\n",
       "    </tr>\n",
       "  </thead>\n",
       "  <tbody>\n",
       "    <tr>\n",
       "      <th>0</th>\n",
       "      <td>2018-10-08</td>\n",
       "      <td>208.00</td>\n",
       "      <td>222.25</td>\n",
       "      <td>206.85</td>\n",
       "      <td>216.00</td>\n",
       "      <td>215.15</td>\n",
       "      <td>4093.065</td>\n",
       "    </tr>\n",
       "    <tr>\n",
       "      <th>1</th>\n",
       "      <td>2018-10-05</td>\n",
       "      <td>217.00</td>\n",
       "      <td>218.60</td>\n",
       "      <td>205.90</td>\n",
       "      <td>210.25</td>\n",
       "      <td>209.20</td>\n",
       "      <td>4042.448</td>\n",
       "    </tr>\n",
       "    <tr>\n",
       "      <th>2</th>\n",
       "      <td>2018-10-04</td>\n",
       "      <td>223.50</td>\n",
       "      <td>227.80</td>\n",
       "      <td>216.15</td>\n",
       "      <td>217.25</td>\n",
       "      <td>218.20</td>\n",
       "      <td>4213.819</td>\n",
       "    </tr>\n",
       "    <tr>\n",
       "      <th>3</th>\n",
       "      <td>2018-10-03</td>\n",
       "      <td>230.00</td>\n",
       "      <td>237.50</td>\n",
       "      <td>225.75</td>\n",
       "      <td>226.45</td>\n",
       "      <td>227.60</td>\n",
       "      <td>4391.665</td>\n",
       "    </tr>\n",
       "    <tr>\n",
       "      <th>4</th>\n",
       "      <td>2018-10-01</td>\n",
       "      <td>234.55</td>\n",
       "      <td>234.60</td>\n",
       "      <td>221.05</td>\n",
       "      <td>230.30</td>\n",
       "      <td>230.90</td>\n",
       "      <td>4350.683</td>\n",
       "    </tr>\n",
       "  </tbody>\n",
       "</table>\n",
       "</div>"
      ],
      "text/plain": [
       "         Date  Add1(in Thousands)  Add2(in Thousands)  Add3(in Thousands)  \\\n",
       "0  2018-10-08              208.00              222.25              206.85   \n",
       "1  2018-10-05              217.00              218.60              205.90   \n",
       "2  2018-10-04              223.50              227.80              216.15   \n",
       "3  2018-10-03              230.00              237.50              225.75   \n",
       "4  2018-10-01              234.55              234.60              221.05   \n",
       "\n",
       "   Add4(in Thousands)  Add5(in Thousands)  Profit(in Thousands)  \n",
       "0              216.00              215.15              4093.065  \n",
       "1              210.25              209.20              4042.448  \n",
       "2              217.25              218.20              4213.819  \n",
       "3              226.45              227.60              4391.665  \n",
       "4              230.30              230.90              4350.683  "
      ]
     },
     "execution_count": 16,
     "metadata": {},
     "output_type": "execute_result"
    }
   ],
   "source": [
    "data=pd.read_csv('Add_sales_data_2018.csv')\n",
    "data.head()"
   ]
  },
  {
   "cell_type": "code",
   "execution_count": 17,
   "id": "6c2b72de",
   "metadata": {},
   "outputs": [
    {
     "name": "stdout",
     "output_type": "stream",
     "text": [
      "<class 'pandas.core.frame.DataFrame'>\n",
      "RangeIndex: 205 entries, 0 to 204\n",
      "Data columns (total 7 columns):\n",
      " #   Column                Non-Null Count  Dtype  \n",
      "---  ------                --------------  -----  \n",
      " 0   Date                  205 non-null    object \n",
      " 1   Add1(in Thousands)    205 non-null    float64\n",
      " 2   Add2(in Thousands)    205 non-null    float64\n",
      " 3   Add3(in Thousands)    205 non-null    float64\n",
      " 4   Add4(in Thousands)    205 non-null    float64\n",
      " 5   Add5(in Thousands)    205 non-null    float64\n",
      " 6   Profit(in Thousands)  205 non-null    float64\n",
      "dtypes: float64(6), object(1)\n",
      "memory usage: 11.3+ KB\n"
     ]
    }
   ],
   "source": [
    "data.info()"
   ]
  },
  {
   "cell_type": "markdown",
   "id": "04b93f91",
   "metadata": {},
   "source": [
    "#### 1. First of all, check whether there is any relationship between the amount spent for advertising through five different companies and profit generated."
   ]
  },
  {
   "cell_type": "code",
   "execution_count": 18,
   "id": "e7ef9c2e",
   "metadata": {
    "scrolled": false
   },
   "outputs": [
    {
     "data": {
      "text/plain": [
       "<AxesSubplot:>"
      ]
     },
     "execution_count": 18,
     "metadata": {},
     "output_type": "execute_result"
    },
    {
     "data": {
      "image/png": "[encoded data removed]",
      "text/plain": [
       "<Figure size 1080x720 with 2 Axes>"
      ]
     },
     "metadata": {
      "needs_background": "light"
     },
     "output_type": "display_data"
    }
   ],
   "source": [
    "#correlation using Spearman's Rank-Order Correlation method\n",
    "corr_sp=data.corr(method='spearman')\n",
    "plt.subplots(figsize=(15,10))\n",
    "sns.heatmap(corr_sp,annot=True,linewidths=0.6)"
   ]
  },
  {
   "cell_type": "markdown",
   "id": "6f9ef308",
   "metadata": {},
   "source": [
    "Amount of money spent on advertisement have very high positive correlation with profit and it is maximum for advertisement 2"
   ]
  },
  {
   "cell_type": "markdown",
   "id": "5eb60fda",
   "metadata": {},
   "source": [
    "#### 2. Build a regression model to predict the profit from the given data and comment your findings on it.\n"
   ]
  },
  {
   "cell_type": "code",
   "execution_count": 103,
   "id": "887d81ad",
   "metadata": {},
   "outputs": [
    {
     "data": {
      "text/plain": [
       "52     4494.144\n",
       "181    5921.116\n",
       "5      4404.686\n",
       "18     4190.965\n",
       "188    5880.541\n",
       "170    5728.804\n",
       "76     5225.140\n",
       "154    5017.503\n",
       "104    5518.561\n",
       "33     4513.600\n",
       "12     4464.110\n",
       "129    5140.372\n",
       "55     4760.877\n",
       "66     5038.222\n",
       "45     4606.340\n",
       "169    5730.999\n",
       "130    4922.845\n",
       "7      4470.775\n",
       "37     4480.363\n",
       "152    5065.652\n",
       "80     5043.705\n",
       "111    5491.792\n",
       "131    4968.030\n",
       "171    5792.175\n",
       "179    6137.800\n",
       "138    5247.011\n",
       "156    5137.534\n",
       "113    5373.275\n",
       "161    5212.949\n",
       "89     4898.776\n",
       "183    5972.337\n",
       "193    5745.806\n",
       "125    5153.977\n",
       "173    5805.521\n",
       "92     4763.690\n",
       "16     4175.677\n",
       "189    5938.474\n",
       "136    4915.682\n",
       "22     4523.704\n",
       "74     5113.337\n",
       "44     4648.627\n",
       "Name: Profit(in Thousands), dtype: float64"
      ]
     },
     "execution_count": 103,
     "metadata": {},
     "output_type": "execute_result"
    }
   ],
   "source": [
    "x=data[['Add1(in Thousands)', 'Add2(in Thousands)','Add3(in Thousands)', 'Add4(in Thousands)', 'Add5(in Thousands)',\n",
    "        'Profit(in Thousands)']]\n",
    "y=data['Profit(in Thousands)']\n",
    "x_train,x_test,y_train,y_test=train_test_split(x,y,random_state=0,test_size=0.2)\n",
    "regressor = LinearRegression()\n",
    "regressor.fit(x_train, y_train)\n",
    "y_pred = regressor.predict(x_test)\n",
    "y_test"
   ]
  },
  {
   "cell_type": "code",
   "execution_count": 80,
   "id": "24587834",
   "metadata": {},
   "outputs": [
    {
     "data": {
      "text/plain": [
       "array([4451.999, 5167.878, 5917.925, 4672.391, 5030.451, 5373.275,\n",
       "       5133.766, 5175.051, 5177.61 , 5153.977, 5190.814, 5858.34 ,\n",
       "       5027.633, 4648.834, 4486.996, 5057.155, 5425.19 , 5185.639,\n",
       "       5182.368, 5580.775, 5065.652, 5212.949, 5728.804, 5263.935,\n",
       "       4411.775, 5163.693, 6101.648, 5421.94 , 4418.709, 4705.198,\n",
       "       4643.716, 5498.553, 5107.437, 4453.205, 4836.837, 4647.356,\n",
       "       5004.282, 5378.379, 4419.421, 5676.934, 5511.42 ])"
      ]
     },
     "execution_count": 80,
     "metadata": {},
     "output_type": "execute_result"
    }
   ],
   "source": [
    "prediction"
   ]
  },
  {
   "cell_type": "code",
   "execution_count": 127,
   "id": "01fdb5b3",
   "metadata": {},
   "outputs": [
    {
     "data": {
      "text/html": [
       "<div>\n",
       "<style scoped>\n",
       "    .dataframe tbody tr th:only-of-type {\n",
       "        vertical-align: middle;\n",
       "    }\n",
       "\n",
       "    .dataframe tbody tr th {\n",
       "        vertical-align: top;\n",
       "    }\n",
       "\n",
       "    .dataframe thead th {\n",
       "        text-align: right;\n",
       "    }\n",
       "</style>\n",
       "<table border=\"1\" class=\"dataframe\">\n",
       "  <thead>\n",
       "    <tr style=\"text-align: right;\">\n",
       "      <th></th>\n",
       "      <th>Actual</th>\n",
       "      <th>Predicted</th>\n",
       "    </tr>\n",
       "  </thead>\n",
       "  <tbody>\n",
       "    <tr>\n",
       "      <th>52</th>\n",
       "      <td>4494.144</td>\n",
       "      <td>4494.144</td>\n",
       "    </tr>\n",
       "    <tr>\n",
       "      <th>181</th>\n",
       "      <td>5921.116</td>\n",
       "      <td>5921.116</td>\n",
       "    </tr>\n",
       "    <tr>\n",
       "      <th>5</th>\n",
       "      <td>4404.686</td>\n",
       "      <td>4404.686</td>\n",
       "    </tr>\n",
       "    <tr>\n",
       "      <th>18</th>\n",
       "      <td>4190.965</td>\n",
       "      <td>4190.965</td>\n",
       "    </tr>\n",
       "    <tr>\n",
       "      <th>188</th>\n",
       "      <td>5880.541</td>\n",
       "      <td>5880.541</td>\n",
       "    </tr>\n",
       "    <tr>\n",
       "      <th>170</th>\n",
       "      <td>5728.804</td>\n",
       "      <td>5728.804</td>\n",
       "    </tr>\n",
       "    <tr>\n",
       "      <th>76</th>\n",
       "      <td>5225.140</td>\n",
       "      <td>5225.140</td>\n",
       "    </tr>\n",
       "    <tr>\n",
       "      <th>154</th>\n",
       "      <td>5017.503</td>\n",
       "      <td>5017.503</td>\n",
       "    </tr>\n",
       "    <tr>\n",
       "      <th>104</th>\n",
       "      <td>5518.561</td>\n",
       "      <td>5518.561</td>\n",
       "    </tr>\n",
       "    <tr>\n",
       "      <th>33</th>\n",
       "      <td>4513.600</td>\n",
       "      <td>4513.600</td>\n",
       "    </tr>\n",
       "    <tr>\n",
       "      <th>12</th>\n",
       "      <td>4464.110</td>\n",
       "      <td>4464.110</td>\n",
       "    </tr>\n",
       "    <tr>\n",
       "      <th>129</th>\n",
       "      <td>5140.372</td>\n",
       "      <td>5140.372</td>\n",
       "    </tr>\n",
       "    <tr>\n",
       "      <th>55</th>\n",
       "      <td>4760.877</td>\n",
       "      <td>4760.877</td>\n",
       "    </tr>\n",
       "    <tr>\n",
       "      <th>66</th>\n",
       "      <td>5038.222</td>\n",
       "      <td>5038.222</td>\n",
       "    </tr>\n",
       "    <tr>\n",
       "      <th>45</th>\n",
       "      <td>4606.340</td>\n",
       "      <td>4606.340</td>\n",
       "    </tr>\n",
       "    <tr>\n",
       "      <th>169</th>\n",
       "      <td>5730.999</td>\n",
       "      <td>5730.999</td>\n",
       "    </tr>\n",
       "    <tr>\n",
       "      <th>130</th>\n",
       "      <td>4922.845</td>\n",
       "      <td>4922.845</td>\n",
       "    </tr>\n",
       "    <tr>\n",
       "      <th>7</th>\n",
       "      <td>4470.775</td>\n",
       "      <td>4470.775</td>\n",
       "    </tr>\n",
       "    <tr>\n",
       "      <th>37</th>\n",
       "      <td>4480.363</td>\n",
       "      <td>4480.363</td>\n",
       "    </tr>\n",
       "    <tr>\n",
       "      <th>152</th>\n",
       "      <td>5065.652</td>\n",
       "      <td>5065.652</td>\n",
       "    </tr>\n",
       "    <tr>\n",
       "      <th>80</th>\n",
       "      <td>5043.705</td>\n",
       "      <td>5043.705</td>\n",
       "    </tr>\n",
       "    <tr>\n",
       "      <th>111</th>\n",
       "      <td>5491.792</td>\n",
       "      <td>5491.792</td>\n",
       "    </tr>\n",
       "    <tr>\n",
       "      <th>131</th>\n",
       "      <td>4968.030</td>\n",
       "      <td>4968.030</td>\n",
       "    </tr>\n",
       "    <tr>\n",
       "      <th>171</th>\n",
       "      <td>5792.175</td>\n",
       "      <td>5792.175</td>\n",
       "    </tr>\n",
       "    <tr>\n",
       "      <th>179</th>\n",
       "      <td>6137.800</td>\n",
       "      <td>6137.800</td>\n",
       "    </tr>\n",
       "    <tr>\n",
       "      <th>138</th>\n",
       "      <td>5247.011</td>\n",
       "      <td>5247.011</td>\n",
       "    </tr>\n",
       "    <tr>\n",
       "      <th>156</th>\n",
       "      <td>5137.534</td>\n",
       "      <td>5137.534</td>\n",
       "    </tr>\n",
       "    <tr>\n",
       "      <th>113</th>\n",
       "      <td>5373.275</td>\n",
       "      <td>5373.275</td>\n",
       "    </tr>\n",
       "    <tr>\n",
       "      <th>161</th>\n",
       "      <td>5212.949</td>\n",
       "      <td>5212.949</td>\n",
       "    </tr>\n",
       "    <tr>\n",
       "      <th>89</th>\n",
       "      <td>4898.776</td>\n",
       "      <td>4898.776</td>\n",
       "    </tr>\n",
       "    <tr>\n",
       "      <th>183</th>\n",
       "      <td>5972.337</td>\n",
       "      <td>5972.337</td>\n",
       "    </tr>\n",
       "    <tr>\n",
       "      <th>193</th>\n",
       "      <td>5745.806</td>\n",
       "      <td>5745.806</td>\n",
       "    </tr>\n",
       "    <tr>\n",
       "      <th>125</th>\n",
       "      <td>5153.977</td>\n",
       "      <td>5153.977</td>\n",
       "    </tr>\n",
       "    <tr>\n",
       "      <th>173</th>\n",
       "      <td>5805.521</td>\n",
       "      <td>5805.521</td>\n",
       "    </tr>\n",
       "    <tr>\n",
       "      <th>92</th>\n",
       "      <td>4763.690</td>\n",
       "      <td>4763.690</td>\n",
       "    </tr>\n",
       "    <tr>\n",
       "      <th>16</th>\n",
       "      <td>4175.677</td>\n",
       "      <td>4175.677</td>\n",
       "    </tr>\n",
       "    <tr>\n",
       "      <th>189</th>\n",
       "      <td>5938.474</td>\n",
       "      <td>5938.474</td>\n",
       "    </tr>\n",
       "    <tr>\n",
       "      <th>136</th>\n",
       "      <td>4915.682</td>\n",
       "      <td>4915.682</td>\n",
       "    </tr>\n",
       "    <tr>\n",
       "      <th>22</th>\n",
       "      <td>4523.704</td>\n",
       "      <td>4523.704</td>\n",
       "    </tr>\n",
       "    <tr>\n",
       "      <th>74</th>\n",
       "      <td>5113.337</td>\n",
       "      <td>5113.337</td>\n",
       "    </tr>\n",
       "    <tr>\n",
       "      <th>44</th>\n",
       "      <td>4648.627</td>\n",
       "      <td>4648.627</td>\n",
       "    </tr>\n",
       "  </tbody>\n",
       "</table>\n",
       "</div>"
      ],
      "text/plain": [
       "       Actual  Predicted\n",
       "52   4494.144   4494.144\n",
       "181  5921.116   5921.116\n",
       "5    4404.686   4404.686\n",
       "18   4190.965   4190.965\n",
       "188  5880.541   5880.541\n",
       "170  5728.804   5728.804\n",
       "76   5225.140   5225.140\n",
       "154  5017.503   5017.503\n",
       "104  5518.561   5518.561\n",
       "33   4513.600   4513.600\n",
       "12   4464.110   4464.110\n",
       "129  5140.372   5140.372\n",
       "55   4760.877   4760.877\n",
       "66   5038.222   5038.222\n",
       "45   4606.340   4606.340\n",
       "169  5730.999   5730.999\n",
       "130  4922.845   4922.845\n",
       "7    4470.775   4470.775\n",
       "37   4480.363   4480.363\n",
       "152  5065.652   5065.652\n",
       "80   5043.705   5043.705\n",
       "111  5491.792   5491.792\n",
       "131  4968.030   4968.030\n",
       "171  5792.175   5792.175\n",
       "179  6137.800   6137.800\n",
       "138  5247.011   5247.011\n",
       "156  5137.534   5137.534\n",
       "113  5373.275   5373.275\n",
       "161  5212.949   5212.949\n",
       "89   4898.776   4898.776\n",
       "183  5972.337   5972.337\n",
       "193  5745.806   5745.806\n",
       "125  5153.977   5153.977\n",
       "173  5805.521   5805.521\n",
       "92   4763.690   4763.690\n",
       "16   4175.677   4175.677\n",
       "189  5938.474   5938.474\n",
       "136  4915.682   4915.682\n",
       "22   4523.704   4523.704\n",
       "74   5113.337   5113.337\n",
       "44   4648.627   4648.627"
      ]
     },
     "execution_count": 127,
     "metadata": {},
     "output_type": "execute_result"
    }
   ],
   "source": [
    "df = pd.DataFrame({'Actual': y_test, 'Predicted': y_pred})\n",
    "df"
   ]
  },
  {
   "cell_type": "markdown",
   "id": "0daf10bc",
   "metadata": {},
   "source": [
    "The values in y-test and predictions are seem to be equal"
   ]
  },
  {
   "cell_type": "markdown",
   "id": "792f72a6",
   "metadata": {},
   "source": [
    "#### 3.Predict the profit generated by the company, if they wish to spend the following amount for advertisement.\n",
    "##### Add1(in Thousands) - 290\n",
    "##### Add2(in Thousands) - 312\n",
    "##### Add3(in Thousands) - 309\n",
    "##### Add4(in Thousands) - 298\n",
    "##### Add5(in Thousands) - 320\n"
   ]
  },
  {
   "cell_type": "code",
   "execution_count": 105,
   "id": "6dfb3dc9",
   "metadata": {},
   "outputs": [
    {
     "data": {
      "text/plain": [
       "[[290, 312, 309, 298, 320]]"
      ]
     },
     "execution_count": 105,
     "metadata": {},
     "output_type": "execute_result"
    }
   ],
   "source": [
    "# creating dataframe of given data\n",
    "Ind_Var=[[290,312,309,298,320]]\n",
    "Ind_Var"
   ]
  },
  {
   "cell_type": "code",
   "execution_count": 126,
   "id": "9e25c119",
   "metadata": {},
   "outputs": [
    {
     "name": "stdout",
     "output_type": "stream",
     "text": [
      "Predicted Profit for Given data:  5820.060000000001\n"
     ]
    }
   ],
   "source": [
    "df= data[['Add1(in Thousands)', 'Add2(in Thousands)','Add3(in Thousands)', 'Add4(in Thousands)',\n",
    "          'Add5(in Thousands)','Profit(in Thousands)']]\n",
    "x = df.drop(['Profit(in Thousands)'],axis=1)\n",
    "y = df['Profit(in Thousands)']\n",
    "model = LinearRegression()\n",
    "model.fit(x, y)\n",
    "Dep_Var = model.predict(Ind_Var)\n",
    "print(\"Predicted Profit for Given data: \", Dep_Var[0])"
   ]
  }
 ],
 "metadata": {
  "kernelspec": {
   "display_name": "Python 3 (ipykernel)",
   "language": "python",
   "name": "python3"
  },
  "language_info": {
   "codemirror_mode": {
    "name": "ipython",
    "version": 3
   },
   "file_extension": ".py",
   "mimetype": "text/x-python",
   "name": "python",
   "nbconvert_exporter": "python",
   "pygments_lexer": "ipython3",
   "version": "3.8.8"
  }
 },
 "nbformat": 4,
 "nbformat_minor": 5
}
